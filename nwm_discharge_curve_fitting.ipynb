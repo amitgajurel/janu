{
 "cells": [
  {
   "cell_type": "code",
   "execution_count": null,
   "metadata": {},
   "outputs": [],
   "source": [
    "import pandas as pd\n",
    "import os\n",
    "import pandas as pd\n",
    "import requests\n",
    "import sys\n",
    "import xarray as xr\n",
    "from datetime import datetime\n",
    "import matplotlib.pyplot as plt\n",
    "from matplotlib.dates import DateFormatter\n",
    "from sklearn.metrics import mean_squared_error\n",
    "from math import sqrt\n",
    "# import dates as date\n",
    "\n",
    "begindate = '20190917' # data is avail. beginning 20180917\n",
    "enddate = '20190927'\n",
    "\n",
    "# comid_stn = pd.read_csv('D:/Sujana/Project/csv/comid_stationname.csv')\n",
    "comid_stn = pd.read_csv('comid_stationname.csv')\n",
    "comid_all = comid_stn['COMID']\n",
    "index = comid_stn['Index']\n",
    "gauge_name_all = comid_stn['station']\n",
    "rmse_df=pd.DataFrame()\n",
    "# for i in index:\n",
    "#     comid = comid_all[i]\n",
    "#     gauge_name = gauge_name_all[i]\n",
    "# # comid = 1479611\n",
    "# # gauge_name = 'JAIT2'\n",
    "#     nwm_discharge = pd.read_csv('D:/Sujana/Project/all_in_one/NWM_discharge_with_stage/short_range/'+str(comid)+'_with_stage.csv')\n",
    "#     dd6_data = pd.read_csv('D:/Sujana/Project/all_in_one/DD6_stage_with_discharge/'+gauge_name+' with_discharge.csv')\n",
    "#     nwm_discharge['Time']=pd.to_datetime(nwm_discharge['Time'],utc=True)\n",
    "#     dd6_data['timestamp']=pd.to_datetime(dd6_data['timestamp'],utc=True)\n",
    "#     # nwm_discharge = nwm_discharge.set_index('Time') \n",
    "#     dd6_data = dd6_data.set_index('timestamp')\n",
    "#     nwm_discharge = nwm_discharge.set_index('Time') \n",
    "\n",
    "\n",
    "\n"
   ]
  },
  {
   "cell_type": "code",
   "execution_count": null,
   "metadata": {},
   "outputs": [],
   "source": [
    "def get_location(ref_data,req_data):\n",
    "    # Inputs:\n",
    "    # ref_data: \"dataframe\" from which we need to extact the matching index\n",
    "    # req_data: \"datetime\" for which the index close to ref_data's datetime is required\n",
    "    # Output\n",
    "    # Int if unique, and slice if monotonic\n",
    "    index = ref_data.index.get_loc(req_data,method='nearest')\n",
    "    return index"
   ]
  },
  {
   "cell_type": "code",
   "execution_count": null,
   "metadata": {},
   "outputs": [],
   "source": [
    "for i in index:\n",
    "    comid = comid_all[i]\n",
    "    gauge_name = gauge_name_all[i]\n",
    "    nwm_discharge = pd.read_csv('D:/Sujana/Project/all_in_one/NWM_discharge_with_stage/short_range/'+str(comid)+'_with_stage.csv')\n",
    "    dd6_data = pd.read_csv('D:/Sujana/Project/all_in_one/DD6_stage_with_discharge/'+gauge_name+' with_discharge.csv')\n",
    "    nwm_discharge['Time']=pd.to_datetime(nwm_discharge['Time'],utc=True)\n",
    "    dd6_data['timestamp']=pd.to_datetime(dd6_data['timestamp'],utc=True)\n",
    "    # nwm_discharge = nwm_discharge.set_index('Time') \n",
    "    dd6_data = dd6_data.set_index('timestamp')\n",
    "    nwm_discharge = nwm_discharge.set_index('Time') \n",
    "\n",
    "    # getting the list of indexes in nwm data that is closet to each dd6_data\n",
    "    indx_list = [get_location(nwm_discharge,x) for x in dd6_data.index]\n",
    "#   assigning the filtered indexes to the nwm_discharge\n",
    "    nwm_discharge_filtered = nwm_discharge.iloc[indx_list]\n",
    "\n",
    "# Creating new dataframe for error calculation\n",
    "    new_df = pd.DataFrame()\n",
    "    new_df['Date'] = dd6_data.index\n",
    "    column1 = dd6_data.reset_index()['dd6_stage_m']\n",
    "    column2 = nwm_discharge_filtered.reset_index()['interp_nwm_stage']\n",
    "    new_df['Observed - Model'] = (column1-column2)\n",
    "    new_df.set_index('Date')\n",
    "\n",
    "  #     Calculating the root mean squared error  \n",
    "    rmse_df['comid'] = rmse_df(comid)\n",
    "    rmse_df['gauge name'] = gauge_name\n",
    "    rmse_df['rmse'] = sqrt(mean_squared_error(column1, column2))\n",
    "#     rmse.append(rms)\n",
    "\n",
    "\n",
    "    \n",
    "\n",
    "\n",
    "\n",
    "    # Plotting the error\n",
    "\n",
    "    plt.figure(facecolor='white')\n",
    "    plt.rc('font', size=14)\n",
    "    fig, ax = plt.subplots(figsize=(10, 6))\n",
    "    # time = discharge_difference['Time']\n",
    "            # print (time)\n",
    "    ax.plot(new_df['Date'], new_df['Observed - Model'],color='tab:blue', label='Observed-Model')\n",
    "    \n",
    "    ax.set(xlabel='Date',\n",
    "            ylabel='Error [meters]',\n",
    "            title=f'COMID {comid} {gauge_name} from ' \\\n",
    "            f'{pd.to_datetime(begindate).strftime(\"%b %d %Y\")} to ' \\\n",
    "            f'{pd.to_datetime(enddate).strftime(\"%b %d %Y\")} for short range')\n",
    "    date_form = DateFormatter(\"%b %d\")\n",
    "    ax.xaxis.set_major_formatter(date_form)\n",
    "    # ax.xaxis.set_major_locator(mdates.WeekdayLocator())\n",
    "    # ax.xaxis.set_major_locator(mdates.WeekdayLocator(byweekday=1, interval=1, tz=None)\n",
    "    ax.legend()\n",
    "    ax.grid(True)\n",
    "    plt.savefig('D:/Sujana/Project/all_in_one/error/plot/'+str (comid)+' Station '+gauge_name+'_Stage_graph_shortrange.jpg')"
   ]
  },
  {
   "cell_type": "code",
   "execution_count": null,
   "metadata": {},
   "outputs": [],
   "source": [
    "def get_location(ref_data,req_data):\n",
    "    # Inputs:\n",
    "    # ref_data: \"dataframe\" from which we need to extact the matching index\n",
    "    # req_data: \"datetime\" for which the index close to ref_data's datetime is required\n",
    "    # Output\n",
    "    # Int if unique, and slice if monotonic\n",
    "    index = ref_data.index.get_loc(req_data,method='nearest')\n",
    "    return index"
   ]
  },
  {
   "cell_type": "code",
   "execution_count": null,
   "metadata": {},
   "outputs": [],
   "source": [
    "# getting the list of indexes in nwm data that is closet to each dd6_data\n",
    "indx_list = [get_location(nwm_discharge,x) for x in dd6_data.index]\n",
    "# assigning the filtered indexes to the nwm_discharge\n",
    "nwm_discharge_filtered = nwm_discharge.iloc[indx_list]"
   ]
  },
  {
   "cell_type": "code",
   "execution_count": null,
   "metadata": {},
   "outputs": [],
   "source": [
    "# difference dataframe\n",
    "new_df = pd.DataFrame()\n",
    "new_df['Date'] = dd6_data.index\n",
    "column1 = dd6_data.reset_index()['dd6_stage_m']\n",
    "column2 = nwm_discharge_filtered.reset_index()['interp_nwm_stage']\n",
    "new_df['Observed - Model'] = column1-column2\n",
    "new_df\n",
    "new_df.set_index('Date')"
   ]
  },
  {
   "cell_type": "code",
   "execution_count": null,
   "metadata": {},
   "outputs": [],
   "source": [
    "# Plotting error-time series\n",
    "plt.figure(facecolor='white')\n",
    "plt.rc('font', size=14)\n",
    "fig, ax = plt.subplots(figsize=(10, 6))\n",
    "  # time = discharge_difference['Time']\n",
    "          # print (time)\n",
    "ax.plot(new_df['Date'], new_df['Observed - Model'],color='tab:blue', label='Observed-Model')\n",
    "  \n",
    "ax.set(xlabel='Date',\n",
    "        ylabel='Error [meters]',\n",
    "        title=f'COMID {comid} {gauge_name} from ' \\\n",
    "        f'{pd.to_datetime(begindate).strftime(\"%b %d %Y\")} to ' \\\n",
    "        f'{pd.to_datetime(enddate).strftime(\"%b %d %Y\")} for short range')\n",
    "date_form = DateFormatter(\"%b %d\")\n",
    "ax.xaxis.set_major_formatter(date_form)\n",
    "  # ax.xaxis.set_major_locator(mdates.WeekdayLocator())\n",
    "  # ax.xaxis.set_major_locator(mdates.WeekdayLocator(byweekday=1, interval=1, tz=None)\n",
    "ax.legend()\n",
    "ax.grid(True)\n",
    "plt.savefig('D:/Sujana/Project/all_in_one/error/plot/'+str (comid)+' Station '+gauge_name+'_Stage_graph_AnalysisAssim.jpg')"
   ]
  },
  {
   "cell_type": "code",
   "execution_count": null,
   "metadata": {},
   "outputs": [],
   "source": [
    "from sklearn.metrics import mean_squared_error\n",
    "mean = mean_squared_error(column1,column2)"
   ]
  },
  {
   "cell_type": "code",
   "execution_count": null,
   "metadata": {},
   "outputs": [],
   "source": [
    "new_df['nwm_time'] = pd.to_datetime(nwm_discharge_filtered.index)\n",
    "\n",
    "new_df['time_difference']=new_df['Date']-new_df['nwm_time']\n"
   ]
  },
  {
   "cell_type": "code",
   "execution_count": null,
   "metadata": {},
   "outputs": [],
   "source": [
    "new_df['nwm_time'] = nwm_discharge_filtered.index\n",
    "new_df['nwm_time'] = new_df['nwm_time']\n",
    "\n",
    "\n",
    "# type(new_df['nwm_time'])"
   ]
  },
  {
   "cell_type": "code",
   "execution_count": null,
   "metadata": {},
   "outputs": [],
   "source": [
    "date_1 = new_df['nwm_time']"
   ]
  },
  {
   "cell_type": "code",
   "execution_count": null,
   "metadata": {},
   "outputs": [],
   "source": [
    "from datetime import datetime\n",
    "date_1 = new_df['nwm_time']\n",
    "date_2 = new_df['Date']\n",
    "date_format_str = '%d/%m/%Y %H:%M:%S.%f'\n",
    "end =   datetime.strptime(date_2, date_format_str)\n",
    "start = datetime.strptime(date_1, date_format_str)\n",
    "\n",
    "# Get interval between two timstamps as timedelta object\n",
    "diff = end - start\n",
    "# Get interval between two timstamps in hours\n",
    "diff_in_hours = diff.total_seconds() / 3600\n",
    "print('Difference between two datetimes in hours:')\n",
    "print(diff_in_hours)"
   ]
  },
  {
   "cell_type": "code",
   "execution_count": null,
   "metadata": {},
   "outputs": [],
   "source": [
    "new_df['date_dd6']=dd6_data.index"
   ]
  },
  {
   "cell_type": "code",
   "execution_count": null,
   "metadata": {},
   "outputs": [],
   "source": [
    "dd6_data.reset_index()['dd6_stage_m']\n",
    "dd6_data.index\n",
    "dd6_data.iloc[:,:]\n",
    "dd6_data.head(10)\n",
    "nwm_discharge_filtered.head(10)"
   ]
  },
  {
   "cell_type": "code",
   "execution_count": null,
   "metadata": {},
   "outputs": [],
   "source": [
    "dd6_data[['dd6_stage_m']]"
   ]
  },
  {
   "cell_type": "code",
   "execution_count": null,
   "metadata": {},
   "outputs": [],
   "source": [
    "dd6_data.head(10)"
   ]
  },
  {
   "cell_type": "code",
   "execution_count": null,
   "metadata": {},
   "outputs": [],
   "source": [
    "num_discharge_filtered.head(10)"
   ]
  },
  {
   "cell_type": "code",
   "execution_count": null,
   "metadata": {},
   "outputs": [],
   "source": [
    "# getting the list of indexes in nwm data that is closet to each dd6_data\n",
    "indx_list = [get_location(nwm_discharge,x) for x in dd6_data.index]\n",
    "# assigning the filtered indexes to the nwm_discharge\n",
    "num_discharge_filtered = nwm_discharge.iloc[indx_list]\n",
    "num_discharge_filtered.to_csv(r'D:/Sujana/Project/all_in_one/error/'+str(comid)+'_'+gauge_name+'.csv')\n",
    "num_discharge_combined = pd.read_csv('D:/Sujana/Project/all_in_one/error/'+str(comid)+'_'+gauge_name+'.csv')\n",
    "num_discharge_combined['dd6_stage_m']=dd6_data['dd6_stage_m']\n",
    "num_discharge_combined['interp_dd6_discharge'] = dd6_data['interp_dd6_discharge']\n"
   ]
  },
  {
   "cell_type": "code",
   "execution_count": null,
   "metadata": {},
   "outputs": [],
   "source": [
    "b['new'] = dd6_data['value']\n",
    "b.head(10)\n",
    "\n",
    "\n"
   ]
  },
  {
   "cell_type": "markdown",
   "metadata": {},
   "source": [
    "#### Rough "
   ]
  },
  {
   "cell_type": "code",
   "execution_count": null,
   "metadata": {},
   "outputs": [],
   "source": [
    "c = get_location(nwm_discharge,dd6_data.index[10])\n",
    "print(c)\n",
    "print(nwm_discharge.iloc[c])"
   ]
  },
  {
   "cell_type": "code",
   "execution_count": null,
   "metadata": {},
   "outputs": [],
   "source": [
    "# nwm_discharge['Time'].head()\n",
    "dd6_data.index"
   ]
  },
  {
   "cell_type": "code",
   "execution_count": null,
   "metadata": {},
   "outputs": [],
   "source": [
    "# dd6_data.index.get_loc(nwm_discharge['Time'], method='nearest')\n",
    "\n",
    "dd6_data.index.get_loc(nwm_discharge['Time'], method='nearest')"
   ]
  },
  {
   "cell_type": "code",
   "execution_count": null,
   "metadata": {},
   "outputs": [],
   "source": []
  },
  {
   "cell_type": "code",
   "execution_count": null,
   "metadata": {},
   "outputs": [],
   "source": [
    "df"
   ]
  },
  {
   "cell_type": "code",
   "execution_count": 28,
   "metadata": {},
   "outputs": [
    {
     "name": "stdout",
     "output_type": "stream",
     "text": [
      "[[ 58.57864376]\n",
      " [158.57864376]\n",
      " [158.57864376]\n",
      " [ 58.57864376]\n",
      " [-82.84271247]\n",
      " [-82.84271247]]\n"
     ]
    }
   ],
   "source": [
    "import numpy as np\n",
    "import matplotlib.pyplot as plt\n",
    "import pandas as pd\n",
    "m = np.sqrt(1/2)\n",
    "n = np.sqrt(2)\n",
    "b = np.matrix([[1,0,0,0,0,m], [0,1,0,0,0,m], [0,0,1,0,0,m], [0,0,0,1,0,m], [0,0,0,0,1,m],[0,0,0,0,1,-1],[0,0,0,0,0,0],[0,0,0,0,0,0]])\n",
    "f = np.matrix([[0],[100],[100],[0],[-100*n],[0],[0],[0]])\n",
    "force = np.dot(np.linalg.pinv(b),f)\n",
    "print(force)"
   ]
  },
  {
   "cell_type": "code",
   "execution_count": null,
   "metadata": {},
   "outputs": [],
   "source": [
    "np.matrix(b)"
   ]
  },
  {
   "cell_type": "code",
   "execution_count": 26,
   "metadata": {},
   "outputs": [
    {
     "data": {
      "text/plain": [
       "matrix([[   0.        ],\n",
       "        [ 100.        ],\n",
       "        [ 100.        ],\n",
       "        [   0.        ],\n",
       "        [-141.42135624],\n",
       "        [   0.        ],\n",
       "        [   0.        ],\n",
       "        [   0.        ]])"
      ]
     },
     "execution_count": 26,
     "metadata": {},
     "output_type": "execute_result"
    }
   ],
   "source": [
    "np.matrix([[0],[100],[100],[0],[-100*n],[0],[0],[0]])"
   ]
  },
  {
   "cell_type": "code",
   "execution_count": 23,
   "metadata": {},
   "outputs": [
    {
     "data": {
      "text/plain": [
       "matrix([[ 1.        ,  0.        ,  0.        ,  0.        ,  0.        ,\n",
       "          0.70710678],\n",
       "        [ 0.        ,  1.        ,  0.        ,  0.        ,  0.        ,\n",
       "          0.70710678],\n",
       "        [ 0.        ,  0.        ,  1.        ,  0.        ,  0.        ,\n",
       "          0.70710678],\n",
       "        [ 0.        ,  0.        ,  0.        ,  1.        ,  0.        ,\n",
       "          0.70710678],\n",
       "        [ 0.        ,  0.        ,  0.        ,  0.        ,  1.        ,\n",
       "          0.70710678],\n",
       "        [ 0.        ,  0.        ,  0.        ,  0.        ,  1.        ,\n",
       "         -1.        ],\n",
       "        [ 0.        ,  0.        ,  0.        ,  0.        ,  0.        ,\n",
       "          0.        ],\n",
       "        [ 0.        ,  0.        ,  0.        ,  0.        ,  0.        ,\n",
       "          0.        ],\n",
       "        [ 0.        ,  0.        ,  0.        ,  0.        ,  0.        ,\n",
       "          0.        ]])"
      ]
     },
     "execution_count": 23,
     "metadata": {},
     "output_type": "execute_result"
    }
   ],
   "source": [
    "np.matrix([[1,0,0,0,0,m], [0,1,0,0,0,m], [0,0,1,0,0,m], [0,0,0,1,0,m], [0,0,0,0,1,m],[0,0,0,0,1,-1],[0,0,0,0,0,0],[0,0,0,0,0,0],[0,0,0,0,0,0]])"
   ]
  },
  {
   "cell_type": "code",
   "execution_count": 30,
   "metadata": {},
   "outputs": [],
   "source": [
    "import numpy as np\n",
    "import matplotlib.pyplot as plt\n",
    "import scipy.io\n",
    "import pandas as pd\n",
    "image = scipy.io.loadmat('radar.mat')\n",
    "image = image['A']\n",
    "U,svd,V = np.linalg.svd(image)\n",
    "# print(svd)\n",
    "# plt.figure(facecolor='white')\n",
    "# plt.title('Singular Value Decomposition')\n",
    "# plt.plot(svd)\n",
    "# plt.savefig('D:/Sujana/CE397/hw7_8/qs8_6_2.jpg')"
   ]
  },
  {
   "cell_type": "code",
   "execution_count": 37,
   "metadata": {},
   "outputs": [
    {
     "data": {
      "image/png": "[encoded data removed]",
      "text/plain": [
       "<Figure size 432x288 with 1 Axes>"
      ]
     },
     "metadata": {
      "needs_background": "light"
     },
     "output_type": "display_data"
    }
   ],
   "source": [
    "k = [10,50,500]\n",
    "\n",
    "for i in k:\n",
    "    U,svd,V = np.linalg.svd(image)\n",
    "    NewImage = U[:,:i] @ np.diag(svd[:i]) @V[:i,:]\n",
    "    NewImage[NewImage<0.01]=np.nan\n",
    "    plt.imshow(NewImage)\n",
    "    plt.savefig('NewLowRankImage_'+str(i)+'.jpg')"
   ]
  },
  {
   "cell_type": "code",
   "execution_count": 32,
   "metadata": {},
   "outputs": [
    {
     "data": {
      "text/plain": [
       "array([[4.27523851e+02, 0.00000000e+00, 0.00000000e+00, ...,\n",
       "        0.00000000e+00, 0.00000000e+00, 0.00000000e+00],\n",
       "       [0.00000000e+00, 1.78307854e+02, 0.00000000e+00, ...,\n",
       "        0.00000000e+00, 0.00000000e+00, 0.00000000e+00],\n",
       "       [0.00000000e+00, 0.00000000e+00, 1.36029913e+02, ...,\n",
       "        0.00000000e+00, 0.00000000e+00, 0.00000000e+00],\n",
       "       ...,\n",
       "       [0.00000000e+00, 0.00000000e+00, 0.00000000e+00, ...,\n",
       "        3.54376216e-14, 0.00000000e+00, 0.00000000e+00],\n",
       "       [0.00000000e+00, 0.00000000e+00, 0.00000000e+00, ...,\n",
       "        0.00000000e+00, 3.54376216e-14, 0.00000000e+00],\n",
       "       [0.00000000e+00, 0.00000000e+00, 0.00000000e+00, ...,\n",
       "        0.00000000e+00, 0.00000000e+00, 3.54376216e-14]])"
      ]
     },
     "execution_count": 32,
     "metadata": {},
     "output_type": "execute_result"
    }
   ],
   "source": [
    "np.diag(svd)"
   ]
  },
  {
   "cell_type": "code",
   "execution_count": 33,
   "metadata": {},
   "outputs": [
    {
     "data": {
      "text/plain": [
       "array([4.27523851e+02, 1.78307854e+02, 1.36029913e+02, 1.16430865e+02,\n",
       "       1.08798808e+02, 7.75675146e+01, 6.85171015e+01, 6.78172937e+01,\n",
       "       6.55672750e+01, 5.56060744e+01, 5.30105654e+01, 4.84906440e+01,\n",
       "       4.30886187e+01, 4.03972303e+01, 3.79981061e+01, 3.63721492e+01,\n",
       "       3.49807918e+01, 3.36319333e+01, 3.28220853e+01, 3.10014657e+01,\n",
       "       3.04119248e+01, 2.91612770e+01, 2.73945675e+01, 2.61421727e+01,\n",
       "       2.57386697e+01, 2.51800907e+01, 2.42880439e+01, 2.33160747e+01,\n",
       "       2.25974809e+01, 2.21547139e+01, 2.11600423e+01, 2.03015638e+01,\n",
       "       1.98905782e+01, 1.95162575e+01, 1.91679715e+01, 1.76736391e+01,\n",
       "       1.74727886e+01, 1.72673833e+01, 1.67414930e+01, 1.61858175e+01,\n",
       "       1.56000998e+01, 1.52821893e+01, 1.50128750e+01, 1.44914857e+01,\n",
       "       1.43526015e+01, 1.40666500e+01, 1.37084200e+01, 1.36842735e+01,\n",
       "       1.33319520e+01, 1.27921308e+01, 1.25922612e+01, 1.25351318e+01,\n",
       "       1.23604451e+01, 1.19828570e+01, 1.17653311e+01, 1.15665044e+01,\n",
       "       1.13926010e+01, 1.12187947e+01, 1.11349833e+01, 1.07950601e+01,\n",
       "       1.06203800e+01, 1.05864917e+01, 1.03856157e+01, 1.03112187e+01,\n",
       "       1.02224720e+01, 1.00402964e+01, 9.82963008e+00, 9.63279458e+00,\n",
       "       9.61496329e+00, 9.34173351e+00, 9.20281129e+00, 9.19795149e+00,\n",
       "       9.13380458e+00, 9.02961492e+00, 8.88872486e+00, 8.76339017e+00,\n",
       "       8.71264822e+00, 8.62211841e+00, 8.54050653e+00, 8.43411226e+00,\n",
       "       8.30531124e+00, 8.16596224e+00, 8.15046051e+00, 8.13240708e+00,\n",
       "       7.96764248e+00, 7.87512040e+00, 7.72614202e+00, 7.58993789e+00,\n",
       "       7.57989190e+00, 7.52071659e+00, 7.43411831e+00, 7.40016302e+00,\n",
       "       7.28267490e+00, 7.14513233e+00, 7.08781093e+00, 7.03146445e+00,\n",
       "       6.98970081e+00, 6.90955072e+00, 6.85544889e+00, 6.76600243e+00,\n",
       "       6.69662083e+00, 6.67300639e+00, 6.62340630e+00, 6.59299682e+00,\n",
       "       6.55734873e+00, 6.48269856e+00, 6.43124495e+00, 6.41689199e+00,\n",
       "       6.29422491e+00, 6.23238088e+00, 6.10781119e+00, 6.09288468e+00,\n",
       "       6.04877102e+00, 6.01552377e+00, 5.98841916e+00, 5.93930931e+00,\n",
       "       5.91431542e+00, 5.87044432e+00, 5.83815204e+00, 5.75615583e+00,\n",
       "       5.71170907e+00, 5.67964306e+00, 5.63688406e+00, 5.58627667e+00,\n",
       "       5.54385108e+00, 5.54040466e+00, 5.48526017e+00, 5.46400663e+00,\n",
       "       5.44238421e+00, 5.39357322e+00, 5.35774089e+00, 5.31004079e+00,\n",
       "       5.27179579e+00, 5.22894448e+00, 5.21236210e+00, 5.13899741e+00,\n",
       "       5.12531746e+00, 5.09078813e+00, 5.06797792e+00, 5.01923878e+00,\n",
       "       4.99161715e+00, 4.97105542e+00, 4.91229193e+00, 4.90656262e+00,\n",
       "       4.86731894e+00, 4.83569360e+00, 4.80869109e+00, 4.78303102e+00,\n",
       "       4.76091761e+00, 4.74888299e+00, 4.71302656e+00, 4.70747377e+00,\n",
       "       4.66665780e+00, 4.62680205e+00, 4.61100114e+00, 4.58734991e+00,\n",
       "       4.55022411e+00, 4.51762866e+00, 4.50169605e+00, 4.49422457e+00,\n",
       "       4.44913663e+00, 4.43052481e+00, 4.40655060e+00, 4.38098358e+00,\n",
       "       4.29712688e+00, 4.29173687e+00, 4.27110504e+00, 4.26159401e+00,\n",
       "       4.25321004e+00, 4.22816697e+00, 4.18514042e+00, 4.16840464e+00,\n",
       "       4.14657828e+00, 4.13966301e+00, 4.11383874e+00, 4.10780152e+00,\n",
       "       4.05882804e+00, 4.04963604e+00, 4.02569741e+00, 4.00384529e+00,\n",
       "       3.99512928e+00, 3.96677252e+00, 3.95039863e+00, 3.92831460e+00,\n",
       "       3.91948848e+00, 3.89597853e+00, 3.86915010e+00, 3.84817178e+00,\n",
       "       3.83634309e+00, 3.81942739e+00, 3.79984547e+00, 3.77879361e+00,\n",
       "       3.74934800e+00, 3.74218373e+00, 3.72832065e+00, 3.71770457e+00,\n",
       "       3.70373226e+00, 3.69039562e+00, 3.66419401e+00, 3.64261982e+00,\n",
       "       3.64140858e+00, 3.61251121e+00, 3.58492947e+00, 3.57316190e+00,\n",
       "       3.56101940e+00, 3.54623529e+00, 3.52521860e+00, 3.50407811e+00,\n",
       "       3.48202033e+00, 3.47311116e+00, 3.45984050e+00, 3.43546030e+00,\n",
       "       3.42388251e+00, 3.41135248e+00, 3.38671738e+00, 3.37977669e+00,\n",
       "       3.37156453e+00, 3.35065079e+00, 3.33348649e+00, 3.33129626e+00,\n",
       "       3.32080819e+00, 3.28897224e+00, 3.27738962e+00, 3.27580906e+00,\n",
       "       3.26173238e+00, 3.24874628e+00, 3.24048054e+00, 3.22920164e+00,\n",
       "       3.22288668e+00, 3.20608917e+00, 3.19487429e+00, 3.18357557e+00,\n",
       "       3.16489680e+00, 3.16324515e+00, 3.12797598e+00, 3.12134948e+00,\n",
       "       3.10459109e+00, 3.09523812e+00, 3.08746449e+00, 3.07035966e+00,\n",
       "       3.03499100e+00, 3.02472611e+00, 3.01361502e+00, 3.00334225e+00,\n",
       "       2.98633217e+00, 2.97597927e+00, 2.95514206e+00, 2.94459283e+00,\n",
       "       2.94143481e+00, 2.92789214e+00, 2.90986474e+00, 2.90054158e+00,\n",
       "       2.89096539e+00, 2.86636129e+00, 2.84887548e+00, 2.84158486e+00,\n",
       "       2.83498468e+00, 2.81230321e+00, 2.79136230e+00, 2.78808008e+00,\n",
       "       2.77165706e+00, 2.75681407e+00, 2.74339459e+00, 2.73588604e+00,\n",
       "       2.73082188e+00, 2.71015542e+00, 2.70532389e+00, 2.69594057e+00,\n",
       "       2.67872910e+00, 2.67494626e+00, 2.65126274e+00, 2.63964049e+00,\n",
       "       2.62649678e+00, 2.61755887e+00, 2.60448489e+00, 2.59283996e+00,\n",
       "       2.58183265e+00, 2.56981780e+00, 2.56066037e+00, 2.54662249e+00,\n",
       "       2.54054093e+00, 2.52798236e+00, 2.51428710e+00, 2.50555796e+00,\n",
       "       2.50324685e+00, 2.47842372e+00, 2.47555262e+00, 2.45886635e+00,\n",
       "       2.45393004e+00, 2.44272282e+00, 2.43249924e+00, 2.41716671e+00,\n",
       "       2.40037310e+00, 2.39679967e+00, 2.38356703e+00, 2.37005443e+00,\n",
       "       2.35428149e+00, 2.34655062e+00, 2.33966054e+00, 2.32710696e+00,\n",
       "       2.32168106e+00, 2.31412916e+00, 2.30836827e+00, 2.29983382e+00,\n",
       "       2.29344423e+00, 2.27491315e+00, 2.26795786e+00, 2.26044991e+00,\n",
       "       2.25568889e+00, 2.24520364e+00, 2.22198238e+00, 2.21742847e+00,\n",
       "       2.21322463e+00, 2.19651051e+00, 2.17352334e+00, 2.17158214e+00,\n",
       "       2.16001415e+00, 2.14976056e+00, 2.14831125e+00, 2.13361697e+00,\n",
       "       2.11936382e+00, 2.10962354e+00, 2.10001585e+00, 2.09154100e+00,\n",
       "       2.08184463e+00, 2.07422028e+00, 2.05908994e+00, 2.05323893e+00,\n",
       "       2.04231154e+00, 2.03443095e+00, 2.02763021e+00, 2.02382503e+00,\n",
       "       2.01853573e+00, 1.99299699e+00, 1.98942076e+00, 1.98400156e+00,\n",
       "       1.97259397e+00, 1.95452481e+00, 1.94648273e+00, 1.92932109e+00,\n",
       "       1.92652101e+00, 1.91538458e+00, 1.90392276e+00, 1.89526240e+00,\n",
       "       1.88718329e+00, 1.87818236e+00, 1.87323299e+00, 1.85585596e+00,\n",
       "       1.85143786e+00, 1.84820676e+00, 1.81758328e+00, 1.81428110e+00,\n",
       "       1.80830302e+00, 1.80315687e+00, 1.79365318e+00, 1.78443166e+00,\n",
       "       1.78181830e+00, 1.77047624e+00, 1.76294040e+00, 1.74989639e+00,\n",
       "       1.74255316e+00, 1.73728392e+00, 1.72488657e+00, 1.72101679e+00,\n",
       "       1.71331709e+00, 1.70672848e+00, 1.69840723e+00, 1.69001221e+00,\n",
       "       1.67427789e+00, 1.67014226e+00, 1.66384443e+00, 1.65426222e+00,\n",
       "       1.65025478e+00, 1.64568610e+00, 1.63314486e+00, 1.62520848e+00,\n",
       "       1.62036119e+00, 1.60203739e+00, 1.60190018e+00, 1.59201131e+00,\n",
       "       1.58436298e+00, 1.57457626e+00, 1.56887639e+00, 1.55805477e+00,\n",
       "       1.55110312e+00, 1.54909499e+00, 1.54119705e+00, 1.52228661e+00,\n",
       "       1.51387425e+00, 1.50474177e+00, 1.50116797e+00, 1.49863662e+00,\n",
       "       1.48984657e+00, 1.47883476e+00, 1.47190956e+00, 1.46191820e+00,\n",
       "       1.45594072e+00, 1.45274923e+00, 1.44903029e+00, 1.43338445e+00,\n",
       "       1.42846243e+00, 1.42233077e+00, 1.40809950e+00, 1.40350910e+00,\n",
       "       1.40068356e+00, 1.39170616e+00, 1.38474910e+00, 1.37290471e+00,\n",
       "       1.36363858e+00, 1.35935553e+00, 1.34636766e+00, 1.34049598e+00,\n",
       "       1.33502762e+00, 1.32385698e+00, 1.32224551e+00, 1.32042851e+00,\n",
       "       1.31259604e+00, 1.29523653e+00, 1.28118948e+00, 1.27747918e+00,\n",
       "       1.27233411e+00, 1.26085241e+00, 1.25388694e+00, 1.24711156e+00,\n",
       "       1.24379829e+00, 1.23932534e+00, 1.22852595e+00, 1.22636787e+00,\n",
       "       1.21752881e+00, 1.21329779e+00, 1.19886460e+00, 1.19406154e+00,\n",
       "       1.18860819e+00, 1.17966845e+00, 1.17489828e+00, 1.16292373e+00,\n",
       "       1.15682678e+00, 1.15517940e+00, 1.14962179e+00, 1.14099534e+00,\n",
       "       1.13098061e+00, 1.12152783e+00, 1.11820990e+00, 1.11328252e+00,\n",
       "       1.10407391e+00, 1.09939314e+00, 1.09485612e+00, 1.08775123e+00,\n",
       "       1.08246379e+00, 1.07467378e+00, 1.07072851e+00, 1.06504623e+00,\n",
       "       1.06290245e+00, 1.04933953e+00, 1.03997417e+00, 1.03879096e+00,\n",
       "       1.02792515e+00, 1.02285730e+00, 1.01420021e+00, 1.00681007e+00,\n",
       "       1.00548110e+00, 9.91147943e-01, 9.89734159e-01, 9.85943401e-01,\n",
       "       9.76274389e-01, 9.70459655e-01, 9.69241921e-01, 9.59199650e-01,\n",
       "       9.53255200e-01, 9.49622780e-01, 9.36489716e-01, 9.34793423e-01,\n",
       "       9.29925495e-01, 9.22265639e-01, 9.14448978e-01, 9.09666223e-01,\n",
       "       9.01861786e-01, 8.99731453e-01, 8.93332679e-01, 8.91521160e-01,\n",
       "       8.86027006e-01, 8.80808193e-01, 8.75737839e-01, 8.64814745e-01,\n",
       "       8.59111772e-01, 8.57627974e-01, 8.51866238e-01, 8.45678800e-01,\n",
       "       8.40461144e-01, 8.34610423e-01, 8.31188885e-01, 8.21868956e-01,\n",
       "       8.20132293e-01, 8.10482354e-01, 8.04567542e-01, 8.02447177e-01,\n",
       "       7.97920330e-01, 7.94588646e-01, 7.90714360e-01, 7.85806092e-01,\n",
       "       7.80450985e-01, 7.70082443e-01, 7.68524881e-01, 7.64040060e-01,\n",
       "       7.55516161e-01, 7.51747103e-01, 7.42201219e-01, 7.41268676e-01,\n",
       "       7.34737763e-01, 7.30101016e-01, 7.29723486e-01, 7.19189495e-01,\n",
       "       7.13734088e-01, 7.10719705e-01, 7.03910684e-01, 6.99186056e-01,\n",
       "       6.94590336e-01, 6.88036626e-01, 6.83043858e-01, 6.79784640e-01,\n",
       "       6.71416334e-01, 6.67312345e-01, 6.66980631e-01, 6.64283105e-01,\n",
       "       6.58523633e-01, 6.55509134e-01, 6.54238045e-01, 6.47939150e-01,\n",
       "       6.38119426e-01, 6.33933118e-01, 6.31947624e-01, 6.29942406e-01,\n",
       "       6.25229718e-01, 6.20726755e-01, 6.13934316e-01, 6.06426850e-01,\n",
       "       6.04766953e-01, 6.01892236e-01, 5.99263707e-01, 5.92547614e-01,\n",
       "       5.91839892e-01, 5.82962318e-01, 5.75114526e-01, 5.74756393e-01,\n",
       "       5.72703427e-01, 5.66116568e-01, 5.63028748e-01, 5.62441654e-01,\n",
       "       5.55719406e-01, 5.51411538e-01, 5.49882944e-01, 5.45114127e-01,\n",
       "       5.35053403e-01, 5.33209379e-01, 5.28882953e-01, 5.28009971e-01,\n",
       "       5.21908891e-01, 5.20068123e-01, 5.16733450e-01, 5.11376478e-01,\n",
       "       5.07146414e-01, 5.05410843e-01, 5.03253103e-01, 4.99419556e-01,\n",
       "       4.93590149e-01, 4.86548155e-01, 4.84707011e-01, 4.84120017e-01,\n",
       "       4.81893881e-01, 4.78254571e-01, 4.71998017e-01, 4.69711436e-01,\n",
       "       4.64691239e-01, 4.61775263e-01, 4.58341555e-01, 4.54861333e-01,\n",
       "       4.51772734e-01, 4.47666782e-01, 4.44087879e-01, 4.41584489e-01,\n",
       "       4.36538559e-01, 4.34897059e-01, 4.33352600e-01, 4.30355445e-01,\n",
       "       4.27623081e-01, 4.24478596e-01, 4.21929448e-01, 4.19066986e-01,\n",
       "       4.16872470e-01, 4.14592690e-01, 4.12401175e-01, 4.11480023e-01,\n",
       "       4.08464371e-01, 4.01926574e-01, 3.99128043e-01, 3.96724383e-01,\n",
       "       3.95505655e-01, 3.91085045e-01, 3.88874127e-01, 3.86604937e-01,\n",
       "       3.84908090e-01, 3.81385024e-01, 3.76767563e-01, 3.75480138e-01,\n",
       "       3.73732580e-01, 3.68039101e-01, 3.66419246e-01, 3.64868398e-01,\n",
       "       3.63085800e-01, 3.61784096e-01, 3.55829515e-01, 3.51824320e-01,\n",
       "       3.48984841e-01, 3.48522806e-01, 3.43657252e-01, 3.43129241e-01,\n",
       "       3.39933319e-01, 3.39640934e-01, 3.37938814e-01, 3.32510717e-01,\n",
       "       3.30113496e-01, 3.28228572e-01, 3.24430457e-01, 3.23550732e-01,\n",
       "       3.21802804e-01, 3.21264298e-01, 3.19917095e-01, 3.15358986e-01,\n",
       "       3.12830350e-01, 3.10219135e-01, 3.08896326e-01, 3.05817766e-01,\n",
       "       3.04226565e-01, 3.02078093e-01, 2.99911950e-01, 2.99112546e-01,\n",
       "       2.93902192e-01, 2.91905887e-01, 2.89094091e-01, 2.87693615e-01,\n",
       "       2.85408754e-01, 2.84920554e-01, 2.84086980e-01, 2.81718873e-01,\n",
       "       2.79523756e-01, 2.74118779e-01, 2.72469217e-01, 2.70249466e-01,\n",
       "       2.68279484e-01, 2.67147078e-01, 2.66025803e-01, 2.63934661e-01,\n",
       "       2.63829355e-01, 2.60350101e-01, 2.58279305e-01, 2.56925283e-01,\n",
       "       2.55098382e-01, 2.53158944e-01, 2.52041101e-01, 2.50311380e-01,\n",
       "       2.48305654e-01, 2.46965405e-01, 2.43757110e-01, 2.42577819e-01,\n",
       "       2.41293742e-01, 2.39335717e-01, 2.37726507e-01, 2.36867719e-01,\n",
       "       2.33688517e-01, 2.32472707e-01, 2.31872511e-01, 2.30302317e-01,\n",
       "       2.26850418e-01, 2.25801768e-01, 2.25618985e-01, 2.23038104e-01,\n",
       "       2.22291174e-01, 2.20032709e-01, 2.18444059e-01, 2.15951407e-01,\n",
       "       2.15000827e-01, 2.13654291e-01, 2.11887386e-01, 2.10560885e-01,\n",
       "       2.08890321e-01, 2.06859054e-01, 2.05949268e-01, 2.04439643e-01,\n",
       "       2.03823638e-01, 2.02880447e-01, 1.99041723e-01, 1.97749565e-01,\n",
       "       1.97009916e-01, 1.96572678e-01, 1.93193906e-01, 1.92897386e-01,\n",
       "       1.91846555e-01, 1.89031021e-01, 1.87496298e-01, 1.87079183e-01,\n",
       "       1.86063937e-01, 1.85360534e-01, 1.83878326e-01, 1.82906009e-01,\n",
       "       1.80242281e-01, 1.79858005e-01, 1.77924098e-01, 1.76473870e-01,\n",
       "       1.74233765e-01, 1.74035689e-01, 1.72257104e-01, 1.70491428e-01,\n",
       "       1.69279381e-01, 1.67274054e-01, 1.66719489e-01, 1.65798670e-01,\n",
       "       1.63624231e-01, 1.61500838e-01, 1.59886036e-01, 1.59238219e-01,\n",
       "       1.57398956e-01, 1.56842651e-01, 1.56008394e-01, 1.54053180e-01,\n",
       "       1.53504798e-01, 1.51933540e-01, 1.50607754e-01, 1.49689358e-01,\n",
       "       1.48478426e-01, 1.47514833e-01, 1.45635026e-01, 1.44600367e-01,\n",
       "       1.43644539e-01, 1.41741168e-01, 1.41174054e-01, 1.41006981e-01,\n",
       "       1.39676476e-01, 1.38472217e-01, 1.38046917e-01, 1.35735903e-01,\n",
       "       1.33442397e-01, 1.32426286e-01, 1.32198127e-01, 1.30630860e-01,\n",
       "       1.28917514e-01, 1.28198230e-01, 1.27247806e-01, 1.26057239e-01,\n",
       "       1.25167476e-01, 1.24358610e-01, 1.23030930e-01, 1.22624799e-01,\n",
       "       1.20878781e-01, 1.19478601e-01, 1.17518459e-01, 1.16867780e-01,\n",
       "       1.15944749e-01, 1.15174831e-01, 1.14359090e-01, 1.13896181e-01,\n",
       "       1.13371240e-01, 1.11810665e-01, 1.10357122e-01, 1.09145227e-01,\n",
       "       1.08082847e-01, 1.07515546e-01, 1.06470651e-01, 1.05533599e-01,\n",
       "       1.03790036e-01, 1.02066037e-01, 1.00695078e-01, 9.91750724e-02,\n",
       "       9.84426574e-02, 9.72845355e-02, 9.66198054e-02, 9.61912335e-02,\n",
       "       9.53691152e-02, 9.30536238e-02, 9.27640492e-02, 9.10754428e-02,\n",
       "       8.99281959e-02, 8.91321161e-02, 8.85918464e-02, 8.75317001e-02,\n",
       "       8.69414028e-02, 8.50079248e-02, 8.36691320e-02, 8.29062198e-02,\n",
       "       8.17038542e-02, 8.09304678e-02, 7.99169046e-02, 7.92368349e-02,\n",
       "       7.88087875e-02, 7.79010342e-02, 7.64554945e-02, 7.55682886e-02,\n",
       "       7.44347367e-02, 7.28783411e-02, 7.22557590e-02, 7.10538992e-02,\n",
       "       7.09058714e-02, 6.96219395e-02, 6.90778602e-02, 6.80203797e-02,\n",
       "       6.71297245e-02, 6.67689267e-02, 6.56623587e-02, 6.32191448e-02,\n",
       "       6.24712194e-02, 6.18989583e-02, 6.17881981e-02, 6.07014331e-02,\n",
       "       5.96727125e-02, 5.92816080e-02, 5.80354308e-02, 5.72699185e-02,\n",
       "       5.69601430e-02, 5.60783926e-02, 5.43553310e-02, 5.36714797e-02,\n",
       "       5.25343681e-02, 5.20091664e-02, 5.14298016e-02, 5.06373337e-02,\n",
       "       5.01384417e-02, 4.92590301e-02, 4.78177185e-02, 4.76492378e-02,\n",
       "       4.58327406e-02, 4.54084929e-02, 4.45043834e-02, 4.39935677e-02,\n",
       "       4.36715003e-02, 4.25753040e-02, 4.16596263e-02, 4.12930897e-02,\n",
       "       3.91303494e-02, 3.83536286e-02, 3.78324573e-02, 3.71923827e-02,\n",
       "       3.67291511e-02, 3.58749189e-02, 3.46088902e-02, 3.41539505e-02,\n",
       "       3.36046349e-02, 3.26562959e-02, 3.20113089e-02, 3.14382988e-02,\n",
       "       3.00878591e-02, 2.90105172e-02, 2.87177598e-02, 2.85240905e-02,\n",
       "       2.72918871e-02, 2.64462434e-02, 2.55724241e-02, 2.53790498e-02,\n",
       "       2.51813940e-02, 2.31752789e-02, 2.20569350e-02, 2.14235790e-02,\n",
       "       2.12456731e-02, 2.11070038e-02, 2.01887925e-02, 1.96399459e-02,\n",
       "       1.81966892e-02, 1.71696747e-02, 1.62696481e-02, 1.41274774e-02,\n",
       "       1.11111555e-02, 9.91300251e-03, 6.15926755e-03, 4.26532636e-03,\n",
       "       3.61734322e-03, 2.71628534e-03, 2.56302043e-03, 2.19404559e-03,\n",
       "       1.77600147e-03, 1.43797056e-03, 1.28953507e-03, 1.10070546e-03,\n",
       "       9.91674120e-04, 8.61624372e-04, 7.05907680e-04, 5.66241838e-04,\n",
       "       5.16224729e-04, 4.85315903e-04, 4.57744225e-04, 3.87948109e-04,\n",
       "       3.09291001e-04, 2.64706335e-04, 2.04314057e-04, 1.33199273e-04,\n",
       "       6.87941521e-05, 1.89858729e-13, 3.54376216e-14, 3.54376216e-14,\n",
       "       3.54376216e-14, 3.54376216e-14, 3.54376216e-14, 3.54376216e-14,\n",
       "       3.54376216e-14, 3.54376216e-14, 3.54376216e-14, 3.54376216e-14,\n",
       "       3.54376216e-14, 3.54376216e-14, 3.54376216e-14, 3.54376216e-14,\n",
       "       3.54376216e-14, 3.54376216e-14, 3.54376216e-14, 3.54376216e-14,\n",
       "       3.54376216e-14, 3.54376216e-14, 3.54376216e-14, 3.54376216e-14,\n",
       "       3.54376216e-14, 3.54376216e-14, 3.54376216e-14, 3.54376216e-14,\n",
       "       3.54376216e-14, 3.54376216e-14, 3.54376216e-14, 3.54376216e-14,\n",
       "       3.54376216e-14, 3.54376216e-14, 3.54376216e-14, 3.54376216e-14,\n",
       "       3.54376216e-14, 3.54376216e-14, 3.54376216e-14, 3.54376216e-14,\n",
       "       3.54376216e-14, 3.54376216e-14, 3.54376216e-14, 3.54376216e-14,\n",
       "       3.54376216e-14, 3.54376216e-14, 3.54376216e-14, 3.54376216e-14,\n",
       "       3.54376216e-14, 3.54376216e-14, 3.54376216e-14, 3.54376216e-14,\n",
       "       3.54376216e-14, 3.54376216e-14, 3.54376216e-14, 3.54376216e-14,\n",
       "       3.54376216e-14, 3.54376216e-14, 3.54376216e-14, 3.54376216e-14,\n",
       "       3.54376216e-14, 3.54376216e-14, 3.54376216e-14, 3.54376216e-14,\n",
       "       3.54376216e-14, 3.54376216e-14, 3.54376216e-14, 3.54376216e-14,\n",
       "       3.54376216e-14, 3.54376216e-14, 3.54376216e-14, 3.54376216e-14,\n",
       "       3.54376216e-14, 3.54376216e-14, 3.54376216e-14, 3.54376216e-14,\n",
       "       3.54376216e-14, 3.54376216e-14, 3.54376216e-14, 3.54376216e-14,\n",
       "       3.54376216e-14, 3.54376216e-14, 3.54376216e-14, 3.54376216e-14,\n",
       "       3.54376216e-14, 3.54376216e-14, 3.54376216e-14, 3.54376216e-14])"
      ]
     },
     "execution_count": 33,
     "metadata": {},
     "output_type": "execute_result"
    }
   ],
   "source": [
    "svd"
   ]
  },
  {
   "cell_type": "code",
   "execution_count": null,
   "metadata": {},
   "outputs": [],
   "source": []
  }
 ],
 "metadata": {
  "interpreter": {
   "hash": "eff79f19482c484032195dcdccbe3ec3b9e30335a23ced1e2e94ccfa5cb37617"
  },
  "kernelspec": {
   "display_name": "Python 3.9.7",
   "language": "python",
   "name": "python3"
  },
  "language_info": {
   "codemirror_mode": {
    "name": "ipython",
    "version": 3
   },
   "file_extension": ".py",
   "mimetype": "text/x-python",
   "name": "python",
   "nbconvert_exporter": "python",
   "pygments_lexer": "ipython3",
   "version": "3.8.8"
  },
  "orig_nbformat": 4
 },
 "nbformat": 4,
 "nbformat_minor": 2
}
