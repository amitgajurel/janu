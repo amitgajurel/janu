{
 "cells": [
  {
   "cell_type": "code",
   "execution_count": 1,
   "metadata": {},
   "outputs": [],
   "source": [
    "import pandas as pd\n",
    "import os\n",
    "import pandas as pd\n",
    "import requests\n",
    "import sys\n",
    "import xarray as xr\n",
    "# import dates as date\n",
    "\n",
    "comid = 1479611\n",
    "gauge_name = 'JAIT2'\n",
    "nwm_discharge = pd.read_csv('1479611_with_stage.csv')\n",
    "dd6_data = pd.read_csv('JAIT2 with_discharge.csv')\n",
    "nwm_discharge['Time']=pd.to_datetime(nwm_discharge['Time'],utc=True)\n",
    "dd6_data['timestamp']=pd.to_datetime(dd6_data['timestamp'],utc=True)\n",
    "# nwm_discharge = nwm_discharge.set_index('Time') \n",
    "dd6_data = dd6_data.set_index('timestamp')\n",
    "nwm_discharge = nwm_discharge.set_index('Time')"
   ]
  },
  {
   "cell_type": "code",
   "execution_count": 2,
   "metadata": {},
   "outputs": [],
   "source": [
    "def get_location(ref_data,req_data):\n",
    "    # Inputs:\n",
    "    # ref_data: \"dataframe\" from which we need to extact the matching index\n",
    "    # req_data: \"datetime\" for which the index close to ref_data's datetime is required\n",
    "    # Output\n",
    "    # Int if unique, and slice if monotonic\n",
    "    index = ref_data.index.get_loc(req_data,method='nearest')\n",
    "    return index"
   ]
  },
  {
   "cell_type": "code",
   "execution_count": 3,
   "metadata": {},
   "outputs": [],
   "source": [
    "# getting the list of indexes in nwm data that is closet to each dd6_data\n",
    "indx_list = [get_location(nwm_discharge,x) for x in dd6_data.index]\n",
    "# assigning the filtered indexes to the nwm_discharge\n",
    "nwm_discharge_filtered = nwm_discharge.iloc[indx_list]"
   ]
  },
  {
   "cell_type": "code",
   "execution_count": 7,
   "metadata": {},
   "outputs": [
    {
     "data": {
      "text/html": [
       "<div>\n",
       "<style scoped>\n",
       "    .dataframe tbody tr th:only-of-type {\n",
       "        vertical-align: middle;\n",
       "    }\n",
       "\n",
       "    .dataframe tbody tr th {\n",
       "        vertical-align: top;\n",
       "    }\n",
       "\n",
       "    .dataframe thead th {\n",
       "        text-align: right;\n",
       "    }\n",
       "</style>\n",
       "<table border=\"1\" class=\"dataframe\">\n",
       "  <thead>\n",
       "    <tr style=\"text-align: right;\">\n",
       "      <th></th>\n",
       "      <th>Data</th>\n",
       "    </tr>\n",
       "    <tr>\n",
       "      <th>Date</th>\n",
       "      <th></th>\n",
       "    </tr>\n",
       "  </thead>\n",
       "  <tbody>\n",
       "    <tr>\n",
       "      <th>2019-09-17 00:23:42+00:00</th>\n",
       "      <td>0.029909</td>\n",
       "    </tr>\n",
       "    <tr>\n",
       "      <th>2019-09-17 08:53:43+00:00</th>\n",
       "      <td>0.062068</td>\n",
       "    </tr>\n",
       "    <tr>\n",
       "      <th>2019-09-17 09:08:44+00:00</th>\n",
       "      <td>0.046828</td>\n",
       "    </tr>\n",
       "    <tr>\n",
       "      <th>2019-09-17 09:23:43+00:00</th>\n",
       "      <td>0.077308</td>\n",
       "    </tr>\n",
       "    <tr>\n",
       "      <th>2019-09-17 12:38:44+00:00</th>\n",
       "      <td>0.034018</td>\n",
       "    </tr>\n",
       "    <tr>\n",
       "      <th>...</th>\n",
       "      <td>...</td>\n",
       "    </tr>\n",
       "    <tr>\n",
       "      <th>2019-09-26 21:09:23+00:00</th>\n",
       "      <td>1.848376</td>\n",
       "    </tr>\n",
       "    <tr>\n",
       "      <th>2019-09-26 21:24:23+00:00</th>\n",
       "      <td>1.817896</td>\n",
       "    </tr>\n",
       "    <tr>\n",
       "      <th>2019-09-26 21:39:23+00:00</th>\n",
       "      <td>1.861811</td>\n",
       "    </tr>\n",
       "    <tr>\n",
       "      <th>2019-09-26 22:09:23+00:00</th>\n",
       "      <td>1.809995</td>\n",
       "    </tr>\n",
       "    <tr>\n",
       "      <th>2019-09-26 23:39:23+00:00</th>\n",
       "      <td>1.760666</td>\n",
       "    </tr>\n",
       "  </tbody>\n",
       "</table>\n",
       "<p>229 rows × 1 columns</p>\n",
       "</div>"
      ],
      "text/plain": [
       "                               Data\n",
       "Date                               \n",
       "2019-09-17 00:23:42+00:00  0.029909\n",
       "2019-09-17 08:53:43+00:00  0.062068\n",
       "2019-09-17 09:08:44+00:00  0.046828\n",
       "2019-09-17 09:23:43+00:00  0.077308\n",
       "2019-09-17 12:38:44+00:00  0.034018\n",
       "...                             ...\n",
       "2019-09-26 21:09:23+00:00  1.848376\n",
       "2019-09-26 21:24:23+00:00  1.817896\n",
       "2019-09-26 21:39:23+00:00  1.861811\n",
       "2019-09-26 22:09:23+00:00  1.809995\n",
       "2019-09-26 23:39:23+00:00  1.760666\n",
       "\n",
       "[229 rows x 1 columns]"
      ]
     },
     "execution_count": 7,
     "metadata": {},
     "output_type": "execute_result"
    }
   ],
   "source": [
    "# difference dataframe\n",
    "new_df = pd.DataFrame()\n",
    "new_df['Date'] = dd6_data.index\n",
    "column1 = dd6_data.reset_index()['dd6_stage_m']\n",
    "column2 = nwm_discharge_filtered.reset_index()['nwm_stage_ft']\n",
    "new_df['Data'] = column1-column2\n",
    "new_df\n",
    "new_df.set_index('Date')"
   ]
  },
  {
   "cell_type": "code",
   "execution_count": null,
   "metadata": {},
   "outputs": [],
   "source": [
    "dd6_data.reset_index()['dd6_stage_m']"
   ]
  },
  {
   "cell_type": "code",
   "execution_count": null,
   "metadata": {},
   "outputs": [],
   "source": [
    "dd6_data.index"
   ]
  },
  {
   "cell_type": "code",
   "execution_count": null,
   "metadata": {},
   "outputs": [],
   "source": [
    "dd6_data.iloc[:,:]"
   ]
  },
  {
   "cell_type": "code",
   "execution_count": null,
   "metadata": {},
   "outputs": [],
   "source": [
    "dd6_data.head(10)"
   ]
  },
  {
   "cell_type": "code",
   "execution_count": null,
   "metadata": {},
   "outputs": [],
   "source": [
    "nwm_discharge_filtered.head(10)"
   ]
  },
  {
   "cell_type": "code",
   "execution_count": null,
   "metadata": {},
   "outputs": [],
   "source": [
    "# getting the list of indexes in nwm data that is closet to each dd6_data\n",
    "indx_list = [get_location(nwm_discharge,x) for x in dd6_data.index]\n",
    "# assigning the filtered indexes to the nwm_discharge\n",
    "num_discharge_filtered = nwm_discharge.iloc[indx_list]\n",
    "num_discharge_filtered.to_csv(r'D:/Sujana/Project/all_in_one/error/'+str(comid)+'_'+gauge_name+'.csv')\n",
    "num_discharge_combined = pd.read_csv('D:/Sujana/Project/all_in_one/error/'+str(comid)+'_'+gauge_name+'.csv')\n",
    "num_discharge_combined['dd6_stage_m']=dd6_data['dd6_stage_m']\n",
    "num_discharge_combined['interp_dd6_discharge'] = dd6_data['interp_dd6_discharge']\n"
   ]
  },
  {
   "cell_type": "code",
   "execution_count": null,
   "metadata": {},
   "outputs": [],
   "source": [
    "b['new'] = dd6_data['value']\n",
    "b.head(10)\n",
    "\n",
    "\n"
   ]
  },
  {
   "cell_type": "markdown",
   "metadata": {},
   "source": [
    "#### Rough "
   ]
  },
  {
   "cell_type": "code",
   "execution_count": null,
   "metadata": {},
   "outputs": [],
   "source": [
    "c = get_location(nwm_discharge,dd6_data.index[10])\n",
    "print(c)\n",
    "print(nwm_discharge.iloc[c])"
   ]
  },
  {
   "cell_type": "code",
   "execution_count": null,
   "metadata": {},
   "outputs": [],
   "source": [
    "# nwm_discharge['Time'].head()\n",
    "dd6_data.index"
   ]
  },
  {
   "cell_type": "code",
   "execution_count": null,
   "metadata": {},
   "outputs": [],
   "source": [
    "# dd6_data.index.get_loc(nwm_discharge['Time'], method='nearest')\n",
    "\n",
    "dd6_data.index.get_loc(nwm_discharge['Time'], method='nearest')"
   ]
  }
 ],
 "metadata": {
  "interpreter": {
   "hash": "eff79f19482c484032195dcdccbe3ec3b9e30335a23ced1e2e94ccfa5cb37617"
  },
  "kernelspec": {
   "display_name": "Python 3.9.7",
   "language": "python",
   "name": "python3"
  },
  "language_info": {
   "codemirror_mode": {
    "name": "ipython",
    "version": 3
   },
   "file_extension": ".py",
   "mimetype": "text/x-python",
   "name": "python",
   "nbconvert_exporter": "python",
   "pygments_lexer": "ipython3",
   "version": "3.8.8"
  },
  "orig_nbformat": 4
 },
 "nbformat": 4,
 "nbformat_minor": 2
}
