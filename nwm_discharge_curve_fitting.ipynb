{
 "cells": [
  {
   "cell_type": "code",
   "execution_count": 18,
   "metadata": {},
   "outputs": [],
   "source": [
    "import pandas as pd\n",
    "import os\n",
    "import pandas as pd\n",
    "import requests\n",
    "import sys\n",
    "import xarray as xr\n",
    "# import dates as date\n",
    "\n",
    "comid = 1479611\n",
    "gauge_name = 'JAIT2'\n",
    "nwm_discharge = pd.read_csv('discharge_'+str(comid)+'.csv')\n",
    "dd6_data = pd.read_csv(r'DD6_'+gauge_name+'.csv')\n",
    "nwm_discharge['Time']=pd.to_datetime(nwm_discharge['Time'])\n",
    "dd6_data['timestamp']=pd.to_datetime(dd6_data['timestamp'])\n",
    "nwm_discharge = nwm_discharge.set_index('Time') \n",
    "dd6_data = dd6_data.set_index('timestamp')\n",
    "\n",
    "\n"
   ]
  },
  {
   "cell_type": "code",
   "execution_count": 17,
   "metadata": {},
   "outputs": [],
   "source": [
    "def get_location(a,b):\n",
    "    # a: dataframe from which we need to extact the matching index\n",
    "    # b: individual date where we want the data\n",
    "    index = a.index.get_loc(b,method='nearest')\n",
    "\n",
    "    return index"
   ]
  },
  {
   "cell_type": "code",
   "execution_count": 30,
   "metadata": {},
   "outputs": [
    {
     "name": "stdout",
     "output_type": "stream",
     "text": [
      "9\n",
      "Unnamed: 0       9.00\n",
      "Discharge_NWM    0.25\n",
      "Name: 2019-09-17 09:00:00, dtype: float64\n"
     ]
    }
   ],
   "source": [
    "c = get_location(nwm_discharge,dd6_data.index[1])\n",
    "print(c)\n",
    "print(nwm_discharge.iloc[c])"
   ]
  },
  {
   "cell_type": "code",
   "execution_count": 5,
   "metadata": {},
   "outputs": [
    {
     "data": {
      "text/html": [
       "<div>\n",
       "<style scoped>\n",
       "    .dataframe tbody tr th:only-of-type {\n",
       "        vertical-align: middle;\n",
       "    }\n",
       "\n",
       "    .dataframe tbody tr th {\n",
       "        vertical-align: top;\n",
       "    }\n",
       "\n",
       "    .dataframe thead th {\n",
       "        text-align: right;\n",
       "    }\n",
       "</style>\n",
       "<table border=\"1\" class=\"dataframe\">\n",
       "  <thead>\n",
       "    <tr style=\"text-align: right;\">\n",
       "      <th></th>\n",
       "      <th>Unnamed: 0</th>\n",
       "      <th>Discharge_NWM</th>\n",
       "    </tr>\n",
       "    <tr>\n",
       "      <th>Time</th>\n",
       "      <th></th>\n",
       "      <th></th>\n",
       "    </tr>\n",
       "  </thead>\n",
       "  <tbody>\n",
       "    <tr>\n",
       "      <th>2019-09-17 00:00:00</th>\n",
       "      <td>0</td>\n",
       "      <td>0.26</td>\n",
       "    </tr>\n",
       "    <tr>\n",
       "      <th>2019-09-17 01:00:00</th>\n",
       "      <td>1</td>\n",
       "      <td>0.25</td>\n",
       "    </tr>\n",
       "    <tr>\n",
       "      <th>2019-09-17 02:00:00</th>\n",
       "      <td>2</td>\n",
       "      <td>0.25</td>\n",
       "    </tr>\n",
       "    <tr>\n",
       "      <th>2019-09-17 03:00:00</th>\n",
       "      <td>3</td>\n",
       "      <td>0.25</td>\n",
       "    </tr>\n",
       "    <tr>\n",
       "      <th>2019-09-17 04:00:00</th>\n",
       "      <td>4</td>\n",
       "      <td>0.25</td>\n",
       "    </tr>\n",
       "  </tbody>\n",
       "</table>\n",
       "</div>"
      ],
      "text/plain": [
       "                     Unnamed: 0  Discharge_NWM\n",
       "Time                                          \n",
       "2019-09-17 00:00:00           0           0.26\n",
       "2019-09-17 01:00:00           1           0.25\n",
       "2019-09-17 02:00:00           2           0.25\n",
       "2019-09-17 03:00:00           3           0.25\n",
       "2019-09-17 04:00:00           4           0.25"
      ]
     },
     "execution_count": 5,
     "metadata": {},
     "output_type": "execute_result"
    }
   ],
   "source": [
    "nwm_discharge.head()"
   ]
  },
  {
   "cell_type": "code",
   "execution_count": 15,
   "metadata": {},
   "outputs": [
    {
     "data": {
      "text/plain": [
       "DatetimeIndex(['2019-09-17 00:23:42+00:00', '2019-09-17 08:53:43+00:00',\n",
       "               '2019-09-17 09:08:44+00:00', '2019-09-17 09:23:43+00:00',\n",
       "               '2019-09-17 12:38:44+00:00', '2019-09-17 15:08:45+00:00',\n",
       "               '2019-09-17 19:38:45+00:00', '2019-09-17 19:53:45+00:00',\n",
       "               '2019-09-17 21:08:46+00:00', '2019-09-17 23:08:45+00:00',\n",
       "               ...\n",
       "               '2019-09-26 16:09:22+00:00', '2019-09-26 16:54:22+00:00',\n",
       "               '2019-09-26 18:24:22+00:00', '2019-09-26 19:39:23+00:00',\n",
       "               '2019-09-26 20:24:23+00:00', '2019-09-26 21:09:23+00:00',\n",
       "               '2019-09-26 21:24:23+00:00', '2019-09-26 21:39:23+00:00',\n",
       "               '2019-09-26 22:09:23+00:00', '2019-09-26 23:39:23+00:00'],\n",
       "              dtype='datetime64[ns, UTC]', name='timestamp', length=229, freq=None)"
      ]
     },
     "execution_count": 15,
     "metadata": {},
     "output_type": "execute_result"
    }
   ],
   "source": [
    "nwm_discharge.index"
   ]
  },
  {
   "cell_type": "code",
   "execution_count": 3,
   "metadata": {},
   "outputs": [
    {
     "data": {
      "text/html": [
       "<div>\n",
       "<style scoped>\n",
       "    .dataframe tbody tr th:only-of-type {\n",
       "        vertical-align: middle;\n",
       "    }\n",
       "\n",
       "    .dataframe tbody tr th {\n",
       "        vertical-align: top;\n",
       "    }\n",
       "\n",
       "    .dataframe thead th {\n",
       "        text-align: right;\n",
       "    }\n",
       "</style>\n",
       "<table border=\"1\" class=\"dataframe\">\n",
       "  <thead>\n",
       "    <tr style=\"text-align: right;\">\n",
       "      <th></th>\n",
       "      <th>value</th>\n",
       "      <th>quality</th>\n",
       "    </tr>\n",
       "    <tr>\n",
       "      <th>timestamp</th>\n",
       "      <th></th>\n",
       "      <th></th>\n",
       "    </tr>\n",
       "  </thead>\n",
       "  <tbody>\n",
       "    <tr>\n",
       "      <th>2019-09-17 00:23:42+00:00</th>\n",
       "      <td>2.82</td>\n",
       "      <td>NaN</td>\n",
       "    </tr>\n",
       "    <tr>\n",
       "      <th>2019-09-17 08:53:43+00:00</th>\n",
       "      <td>2.92</td>\n",
       "      <td>NaN</td>\n",
       "    </tr>\n",
       "    <tr>\n",
       "      <th>2019-09-17 09:08:44+00:00</th>\n",
       "      <td>2.87</td>\n",
       "      <td>NaN</td>\n",
       "    </tr>\n",
       "    <tr>\n",
       "      <th>2019-09-17 09:23:43+00:00</th>\n",
       "      <td>2.97</td>\n",
       "      <td>NaN</td>\n",
       "    </tr>\n",
       "    <tr>\n",
       "      <th>2019-09-17 12:38:44+00:00</th>\n",
       "      <td>3.12</td>\n",
       "      <td>NaN</td>\n",
       "    </tr>\n",
       "  </tbody>\n",
       "</table>\n",
       "</div>"
      ],
      "text/plain": [
       "                           value  quality\n",
       "timestamp                                \n",
       "2019-09-17 00:23:42+00:00   2.82      NaN\n",
       "2019-09-17 08:53:43+00:00   2.92      NaN\n",
       "2019-09-17 09:08:44+00:00   2.87      NaN\n",
       "2019-09-17 09:23:43+00:00   2.97      NaN\n",
       "2019-09-17 12:38:44+00:00   3.12      NaN"
      ]
     },
     "execution_count": 3,
     "metadata": {},
     "output_type": "execute_result"
    }
   ],
   "source": [
    "dd6_data.head()"
   ]
  },
  {
   "cell_type": "code",
   "execution_count": 29,
   "metadata": {},
   "outputs": [
    {
     "ename": "InvalidIndexError",
     "evalue": "0     2019-09-17 00:00:00\n1     2019-09-17 01:00:00\n2     2019-09-17 02:00:00\n3     2019-09-17 03:00:00\n4     2019-09-17 04:00:00\n              ...        \n259   2019-09-27 19:00:00\n260   2019-09-27 20:00:00\n261   2019-09-27 21:00:00\n262   2019-09-27 22:00:00\n263   2019-09-27 23:00:00\nName: Time, Length: 264, dtype: datetime64[ns]",
     "output_type": "error",
     "traceback": [
      "\u001b[1;31m---------------------------------------------------------------------------\u001b[0m",
      "\u001b[1;31mInvalidIndexError\u001b[0m                         Traceback (most recent call last)",
      "\u001b[1;32mC:\\Software\\Anaconda\\Temp/ipykernel_14008/289442145.py\u001b[0m in \u001b[0;36m<module>\u001b[1;34m\u001b[0m\n\u001b[1;32m----> 1\u001b[1;33m \u001b[0mdd6_data\u001b[0m\u001b[1;33m.\u001b[0m\u001b[0mindex\u001b[0m\u001b[1;33m.\u001b[0m\u001b[0mget_loc\u001b[0m\u001b[1;33m(\u001b[0m\u001b[0mnwm_discharge\u001b[0m\u001b[1;33m[\u001b[0m\u001b[1;34m'Time'\u001b[0m\u001b[1;33m]\u001b[0m\u001b[1;33m,\u001b[0m \u001b[0mmethod\u001b[0m\u001b[1;33m=\u001b[0m\u001b[1;34m'nearest'\u001b[0m\u001b[1;33m)\u001b[0m\u001b[1;33m\u001b[0m\u001b[1;33m\u001b[0m\u001b[0m\n\u001b[0m",
      "\u001b[1;32m~\\Coding\\env\\nwm\\lib\\site-packages\\pandas\\core\\indexes\\datetimes.py\u001b[0m in \u001b[0;36mget_loc\u001b[1;34m(self, key, method, tolerance)\u001b[0m\n\u001b[0;32m    661\u001b[0m         \"\"\"\n\u001b[0;32m    662\u001b[0m         \u001b[1;32mif\u001b[0m \u001b[1;32mnot\u001b[0m \u001b[0mis_scalar\u001b[0m\u001b[1;33m(\u001b[0m\u001b[0mkey\u001b[0m\u001b[1;33m)\u001b[0m\u001b[1;33m:\u001b[0m\u001b[1;33m\u001b[0m\u001b[1;33m\u001b[0m\u001b[0m\n\u001b[1;32m--> 663\u001b[1;33m             \u001b[1;32mraise\u001b[0m \u001b[0mInvalidIndexError\u001b[0m\u001b[1;33m(\u001b[0m\u001b[0mkey\u001b[0m\u001b[1;33m)\u001b[0m\u001b[1;33m\u001b[0m\u001b[1;33m\u001b[0m\u001b[0m\n\u001b[0m\u001b[0;32m    664\u001b[0m \u001b[1;33m\u001b[0m\u001b[0m\n\u001b[0;32m    665\u001b[0m         \u001b[0morig_key\u001b[0m \u001b[1;33m=\u001b[0m \u001b[0mkey\u001b[0m\u001b[1;33m\u001b[0m\u001b[1;33m\u001b[0m\u001b[0m\n",
      "\u001b[1;31mInvalidIndexError\u001b[0m: 0     2019-09-17 00:00:00\n1     2019-09-17 01:00:00\n2     2019-09-17 02:00:00\n3     2019-09-17 03:00:00\n4     2019-09-17 04:00:00\n              ...        \n259   2019-09-27 19:00:00\n260   2019-09-27 20:00:00\n261   2019-09-27 21:00:00\n262   2019-09-27 22:00:00\n263   2019-09-27 23:00:00\nName: Time, Length: 264, dtype: datetime64[ns]"
     ]
    }
   ],
   "source": [
    "dd6_data.index.get_loc(nwm_discharge['Time'], method='nearest')"
   ]
  }
 ],
 "metadata": {
  "interpreter": {
   "hash": "eff79f19482c484032195dcdccbe3ec3b9e30335a23ced1e2e94ccfa5cb37617"
  },
  "kernelspec": {
   "display_name": "Python 3.9.7",
   "language": "python",
   "name": "python3"
  },
  "language_info": {
   "codemirror_mode": {
    "name": "ipython",
    "version": 3
   },
   "file_extension": ".py",
   "mimetype": "text/x-python",
   "name": "python",
   "nbconvert_exporter": "python",
   "pygments_lexer": "ipython3",
   "version": "3.8.8"
  },
  "orig_nbformat": 4
 },
 "nbformat": 4,
 "nbformat_minor": 2
}
