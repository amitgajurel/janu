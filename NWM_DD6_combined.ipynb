{
 "cells": [
  {
   "cell_type": "markdown",
   "metadata": {},
   "source": [
    "### Purpose:\n",
    " - Download retrospective hourly analysis & assimilation NWM files from the Google Cloud archive\n",
    " - Obtain and plot the discharge time series of a stream of interest\n",
    " - Run the cells in order to import libraries, select parameters, define functions, download files, and plot a discharge series\n",
    "    \n",
    "### Inputs:\n",
    " - (1) begin date for data retrieval\n",
    " - (2) end date for data retrieval (inclusive)\n",
    " - (3) desired product (channel routing or forcing)\n",
    " - (4) directory for downloaded files"
   ]
  },
  {
   "cell_type": "code",
   "execution_count": 2,
   "metadata": {
    "tags": []
   },
   "outputs": [],
   "source": [
    "# import python libraries\n",
    "\n",
    "import matplotlib.pyplot as plt\n",
    "import os\n",
    "import pandas as pd\n",
    "import requests\n",
    "import sys\n",
    "import xarray as xr\n",
    "\n",
    "from matplotlib.dates import DateFormatter\n",
    "from time import sleep"
   ]
  },
  {
   "cell_type": "code",
   "execution_count": 3,
   "metadata": {},
   "outputs": [],
   "source": [
    "# select input parameters\n",
    "\n",
    "begindate = '20190929' # data is avail. beginning 20180917\n",
    "enddate = '20190930'\n",
    "# enddate = '20190930' # inclusive\n",
    "product = 'channel_rt' # 'channel_rt' or 'forcing'\n",
    "destfolder_name = 'test2' # directory will be created in current working directory if it does not already exist"
   ]
  },
  {
   "cell_type": "code",
   "execution_count": 4,
   "metadata": {},
   "outputs": [],
   "source": [
    "# define functions\n",
    "\n",
    "def get_netcdf(filetype,begin_date,end_date,output_folder_name):\n",
    "    \n",
    "    output_folder = os.path.join(os.getcwd(),output_folder_name)\n",
    "    \n",
    "    if not os.path.exists(output_folder):\n",
    "        os.mkdir(output_folder)\n",
    "    \n",
    "    if filetype =='channel_rt':\n",
    "        prodstr = ''\n",
    "    elif filetype == 'forcing':\n",
    "        prodstr = 'forcing_'\n",
    "    else:\n",
    "        print(\"Product error. Choose 'channel_rt' or 'forcing'.\")\n",
    "        sys.exit()\n",
    "    \n",
    "        \n",
    "    \n",
    "    t1 = pd.to_datetime(begin_date)\n",
    "    t2 = pd.to_datetime(end_date)\n",
    "    dates = pd.date_range(t1,t2)\n",
    "    \n",
    "    for i in range(len(dates)):\n",
    "        date = dates[i]\n",
    "        save_dir = date.strftime('%Y%m%d')\n",
    "        \n",
    "        if not os.path.exists(output_folder+'/'+save_dir):\n",
    "            os.mkdir(output_folder+'/'+save_dir)\n",
    "            \n",
    "        for hr in range(24):\n",
    "            \n",
    "            # url = f'https://storage.googleapis.com/national-water-model/' \\\n",
    "            #       f'nwm.{date.strftime(\"%Y%m%d\")}/{prodstr}analysis_assim/' \\\n",
    "            #       f'nwm.t{str(hr).zfill(2)}z.analysis_assim.{filetype}.tm00.conus.nc'\n",
    "            url = f'https://storage.googleapis.com/national-water-model/' \\\n",
    "                  f'nwm.{date.strftime(\"%Y%m%d\")}/{prodstr}short_range/' \\\n",
    "                  f'nwm.t{str(hr).zfill(2)}z.short_range.{filetype}.f001.conus.nc'\n",
    "                #   https://storage.googleapis.com/national-water-model/nwm.20200404/analysis_assim/nwm.t00z.analysis_assim.channel_rt.tm00.conus.nc\n",
    "                #   https://storage.googleapis.com/national-water-model/nwm.20200404/short_range/nwm.t00z.short_range.channel_rt.f001.conus.nc\n",
    "            # url = 'https://storage.googleapis.com/national-water-model/nwm/prod/nwm.20190917/short_range/nwm.t00z.short_range.channel_rt.f001.conus.nc'\n",
    "            filename = os.path.basename(url)\n",
    "            write_file = os.path.join(output_folder, save_dir, filename)\n",
    "\n",
    "            for attempt in range(30):\n",
    "                try:\n",
    "                    r = requests.get(url)\n",
    "                    with open(write_file, 'wb') as f:\n",
    "                        f.write(r.content)\n",
    "                    break\n",
    "                except Exception as ex:\n",
    "                    if attempt != max_attempts - 1:\n",
    "                        sleep(0.5)  # Give NOAA time to wake up\n",
    "                    else:\n",
    "                        m = 'Could not download file.\\n' + str(ex)\n",
    "                        raise Exception(m)\n",
    "                        \n",
    "        print(f'{save_dir} done')\n",
    "       \n",
    "        \n",
    "def get_series(comid, begin_date, end_date, datafolder_name, filetype):\n",
    "    \n",
    "    data_folder = os.path.join(os.getcwd(), datafolder_name)\n",
    "    \n",
    "    t1 = pd.to_datetime(begin_date)\n",
    "    t2 = pd.to_datetime(end_date)\n",
    "    dates = pd.date_range(t1,t2)\n",
    "    \n",
    "    df = pd.DataFrame()\n",
    "    \n",
    "    for i in range(len(dates)):\n",
    "        date = dates[i]\n",
    "        date_dir = date.strftime('%Y%m%d')\n",
    "            \n",
    "        for hr in range(24):\n",
    "            # filename = f'nwm.t{str(hr).zfill(2)}z.analysis_assim.{filetype}.f001.conus.nc'\n",
    "            filename = f'nwm.t{str(hr).zfill(2)}z.short_range.{filetype}.f001.conus.nc'\n",
    "            # nwm.t00z.short_range.channel_rt.f001.conus.nc\n",
    "            nc_file = os.path.join(data_folder, date_dir, filename)\n",
    "            data = xr.open_dataset(nc_file)\n",
    "            Q = float(data.sel(feature_id=comid).streamflow.values)\n",
    "            timestamp = pd.to_datetime(f'{date_dir} {hr}:00')\n",
    "            df.loc[timestamp,'Q'] = Q\n",
    "    \n",
    "    return df\n",
    "    \n"
   ]
  },
  {
   "cell_type": "code",
   "execution_count": 5,
   "metadata": {},
   "outputs": [
    {
     "name": "stdout",
     "output_type": "stream",
     "text": [
      "20190929 done\n",
      "20190930 done\n"
     ]
    }
   ],
   "source": [
    "# download files\n",
    "\n",
    "get_netcdf(product,begindate,enddate,destfolder_name)"
   ]
  },
  {
   "cell_type": "code",
   "execution_count": 6,
   "metadata": {},
   "outputs": [
    {
     "name": "stdout",
     "output_type": "stream",
     "text": [
      "                              Q\n",
      "2019-09-29 00:00:00  375.109992\n",
      "2019-09-29 01:00:00  372.489992\n",
      "2019-09-29 02:00:00  369.889992\n",
      "2019-09-29 03:00:00  367.309992\n",
      "2019-09-29 04:00:00  364.749992\n",
      "2019-09-29 05:00:00  362.219992\n",
      "2019-09-29 06:00:00  359.699992\n",
      "2019-09-29 07:00:00  357.209992\n",
      "2019-09-29 08:00:00  354.739992\n",
      "2019-09-29 09:00:00  352.289992\n",
      "2019-09-29 10:00:00  349.859992\n",
      "2019-09-29 11:00:00  347.459992\n",
      "2019-09-29 12:00:00  345.079992\n",
      "2019-09-29 13:00:00  342.719992\n",
      "2019-09-29 14:00:00  340.389992\n",
      "2019-09-29 15:00:00  338.089992\n",
      "2019-09-29 16:00:00  335.809992\n",
      "2019-09-29 17:00:00  333.569993\n",
      "2019-09-29 18:00:00  331.349993\n",
      "2019-09-29 19:00:00  329.089993\n",
      "2019-09-29 20:00:00  326.909993\n",
      "2019-09-29 21:00:00  324.769993\n",
      "2019-09-29 22:00:00  322.649993\n",
      "2019-09-29 23:00:00  320.559993\n",
      "2019-09-30 00:00:00  318.489993\n",
      "2019-09-30 01:00:00  316.449993\n",
      "2019-09-30 02:00:00  314.439993\n",
      "2019-09-30 03:00:00  312.449993\n",
      "2019-09-30 04:00:00  310.479993\n",
      "2019-09-30 05:00:00  308.529993\n",
      "2019-09-30 06:00:00  306.609993\n",
      "2019-09-30 07:00:00  304.699993\n",
      "2019-09-30 08:00:00  302.809993\n",
      "2019-09-30 09:00:00  300.939993\n",
      "2019-09-30 10:00:00  299.089993\n",
      "2019-09-30 11:00:00  297.259993\n",
      "2019-09-30 12:00:00  295.449993\n",
      "2019-09-30 13:00:00  293.659993\n",
      "2019-09-30 14:00:00  291.889993\n",
      "2019-09-30 15:00:00  290.139994\n",
      "2019-09-30 16:00:00  288.409994\n",
      "2019-09-30 17:00:00  286.709994\n",
      "2019-09-30 18:00:00  285.029994\n",
      "2019-09-30 19:00:00  283.369994\n",
      "2019-09-30 20:00:00  281.729994\n",
      "2019-09-30 21:00:00  280.109994\n",
      "2019-09-30 22:00:00  278.519994\n",
      "2019-09-30 23:00:00  276.949994\n"
     ]
    }
   ],
   "source": [
    "# extract a discharge time series for an individual stream from the downloaded files\n",
    "# this example shows a reach of the Sabine River in Southeast Texas during TS Imelda\n",
    "# compare: https://nwis.waterdata.usgs.gov/nwis/uv?cb_00060=on&cb_00065=on&format=gif_default&site_no=08030500&period=&begin_date=2019-09-15&end_date=2019-09-30\n",
    "\n",
    "comid = 1114345\n",
    "# 1114345 # Neches River Saltwater Barrier 8331880 # Sabine river near USGS gage 08030500\n",
    "sabine_timeseries_df = get_series(comid, begindate, enddate, destfolder_name, product)\n",
    "print (sabine_timeseries_df)"
   ]
  },
  {
   "cell_type": "code",
   "execution_count": 14,
   "metadata": {},
   "outputs": [
    {
     "ename": "SyntaxError",
     "evalue": "invalid syntax (Temp/ipykernel_141576/1109527966.py, line 6)",
     "output_type": "error",
     "traceback": [
      "\u001b[1;36m  File \u001b[1;32m\"C:\\Software\\Anaconda\\Temp/ipykernel_141576/1109527966.py\"\u001b[1;36m, line \u001b[1;32m6\u001b[0m\n\u001b[1;33m    for row in df\u001b[0m\n\u001b[1;37m                 ^\u001b[0m\n\u001b[1;31mSyntaxError\u001b[0m\u001b[1;31m:\u001b[0m invalid syntax\n"
     ]
    }
   ],
   "source": [
    "#Combining with the USGS / DD6 gages Get the USGS file\n",
    "headers = ['Discharge', 'Time']\n",
    "df = pd.read_csv('usgs.csv', names = headers)\n",
    "usgs_x = []\n",
    "usgs_y = []\n",
    "for row in df\n",
    "    usgs_x.append(df.)\n",
    "# usgs_x = list(var['Time'])\n",
    "# usgs_y = list(var['Discharge'])\n",
    "# print(usgs_x, usgs_y)"
   ]
  },
  {
   "cell_type": "code",
   "execution_count": 15,
   "metadata": {},
   "outputs": [
    {
     "data": {
      "text/plain": [
       "<Figure size 432x288 with 0 Axes>"
      ]
     },
     "metadata": {},
     "output_type": "display_data"
    },
    {
     "data": {
      "image/png": "[encoded data removed]",
      "text/plain": [
       "<Figure size 720x432 with 1 Axes>"
      ]
     },
     "metadata": {
      "needs_background": "light"
     },
     "output_type": "display_data"
    }
   ],
   "source": [
    "# plot the discharge time series\n",
    "plt.figure(facecolor='white')\n",
    "plt.rc('font', size=14)\n",
    "fig, ax = plt.subplots(figsize=(10, 6))\n",
    "ax.plot(sabine_timeseries_df, color='tab:blue', label='Q')\n",
    "ax.set(xlabel='Date',\n",
    "       ylabel='Discharge [cms]',\n",
    "       title=f'COMID {comid} from ' \\\n",
    "       f'{pd.to_datetime(begindate).strftime(\"%b %d %Y\")} to ' \\\n",
    "       f'{pd.to_datetime(enddate).strftime(\"%b %d %Y\")}')\n",
    "date_form = DateFormatter(\"%b %d\")\n",
    "ax.xaxis.set_major_formatter(date_form)\n",
    "ax.legend()\n",
    "ax.grid(True)\n",
    "plt.savefig('Discharge_graph.jpg')"
   ]
  }
 ],
 "metadata": {
  "interpreter": {
   "hash": "eff79f19482c484032195dcdccbe3ec3b9e30335a23ced1e2e94ccfa5cb37617"
  },
  "kernelspec": {
   "display_name": "Python [conda env:Coding-py39]",
   "language": "python",
   "name": "python3"
  },
  "language_info": {
   "codemirror_mode": {
    "name": "ipython",
    "version": 3
   },
   "file_extension": ".py",
   "mimetype": "text/x-python",
   "name": "python",
   "nbconvert_exporter": "python",
   "pygments_lexer": "ipython3",
   "version": "3.9.7"
  }
 },
 "nbformat": 4,
 "nbformat_minor": 4
}
