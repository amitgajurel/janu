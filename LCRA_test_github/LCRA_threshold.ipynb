{
 "cells": [
  {
   "cell_type": "markdown",
   "metadata": {},
   "source": [
    "### Purpose:\n",
    " - Download retrospective hourly analysis & assimilation NWM files from the Google Cloud archive\n",
    " - Obtain and plot the discharge time series of a stream of interest\n",
    " - Run the cells in order to import libraries, select parameters, define functions, download files, and plot a discharge series\n",
    "    \n",
    "### Inputs:\n",
    " - (1) begin date for data retrieval\n",
    " - (2) end date for data retrieval (inclusive)\n",
    " - (3) desired product (channel routing or forcing)\n",
    " - (4) directory for downloaded files"
   ]
  },
  {
   "cell_type": "code",
   "execution_count": 1,
   "metadata": {
    "tags": []
   },
   "outputs": [],
   "source": [
    "# import python libraries\n",
    "\n",
    "import matplotlib.pyplot as plt\n",
    "import os\n",
    "import pandas as pd\n",
    "import requests\n",
    "import sys\n",
    "import xarray as xr\n",
    "\n",
    "from matplotlib.dates import DateFormatter\n",
    "from time import sleep"
   ]
  },
  {
   "cell_type": "code",
   "execution_count": null,
   "metadata": {},
   "outputs": [],
   "source": [
    "#To find a threshold value throug EPE\n",
    "import pandas as pd\n",
    "gauge_name = 'San Saba River near Brady'\n",
    "lcra_file = pd.read_csv('San Saba River near Brady.csv')\n",
    "lcra_file['discharge'] = lcra_file['value']/35.3147\n",
    "lcra_file['timestamp'] = pd.to_datetime(lcra_file['timestamp'])\n",
    "data = lcra_file.resample('M', on='timestamp').discharge.max()\n",
    "data = data.sort_values(by=['discharge'], ascending = False)\n",
    "N = len(data.index)\n",
    "data['timestamp'] = pd.to_datetime(data['timestamp'])\n",
    "data['rank'] = data['discharge'].rank()     #Rank\n",
    "data['return_period'] = data['rank']/(N+1)  #unit is per month\n",
    "data['prob of exceedance'] = 1/(data['return_period'])\n",
    "data['prob of exceedance'].max()"
   ]
  }
 ],
 "metadata": {
  "kernelspec": {
   "display_name": "Python 3.10.5 64-bit",
   "language": "python",
   "name": "python3"
  },
  "language_info": {
   "codemirror_mode": {
    "name": "ipython",
    "version": 3
   },
   "file_extension": ".py",
   "mimetype": "text/x-python",
   "name": "python",
   "nbconvert_exporter": "python",
   "pygments_lexer": "ipython3",
   "version": "3.10.5"
  },
  "vscode": {
   "interpreter": {
    "hash": "aee8b7b246df8f9039afb4144a1f6fd8d2ca17a180786b69acc140d282b71a49"
   }
  }
 },
 "nbformat": 4,
 "nbformat_minor": 4
}
